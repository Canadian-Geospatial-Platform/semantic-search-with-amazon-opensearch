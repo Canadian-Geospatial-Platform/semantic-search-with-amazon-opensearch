{
 "cells": [
  {
   "cell_type": "markdown",
   "id": "ffcc816a-90fb-4740-9df4-0b2a1bdee6bf",
   "metadata": {},
   "source": [
    "### Deploy semantic search using with finetuned model \n",
    "The deployment architecture includes: \n",
    "- Choose a pretrain BERT model, here we use all-MiniLM-L6-v2 model\n",
    "- Save the ML models in S3 bucket\n",
    "- Host the ML models using SageMaker endpoints \n",
    "- Create Vector index and load data into the index \n",
    "- Create API gateway handels queries from web applications and pass it to lambda \n",
    "- Create a Lambda function to call SageMaker endpoints to generate embeddings from user query, and send the query results back to API gateway \n",
    "- API gateway sends the search results to frontend, and return search results to the users \n",
    "\n",
    "![Semantic_search_finetuned_fullstack](image/Semantic_search_finetune_fullstack.png)"
   ]
  },
  {
   "cell_type": "code",
   "execution_count": 1,
   "id": "8e08bdd5-134e-4c0d-83eb-1c1f394dec62",
   "metadata": {
    "tags": []
   },
   "outputs": [
    {
     "name": "stdout",
     "output_type": "stream",
     "text": [
      "2.1.0\n"
     ]
    }
   ],
   "source": [
    "import torch \n",
    "print(torch.__version__)"
   ]
  },
  {
   "cell_type": "code",
   "execution_count": 3,
   "id": "f66db75b-280d-4a02-a215-3f3561d38d10",
   "metadata": {
    "tags": []
   },
   "outputs": [],
   "source": [
    "#installed in the previous notebook\n",
    "!pip install -q boto3\n",
    "!pip install -q requests\n",
    "!pip install -q requests-aws4auth\n",
    "!pip install -q opensearch-py\n",
    "!pip install -q tqdm\n",
    "!pip install -q install transformers[torch]\n",
    "!pip install -q transformers\n",
    "!pip install -q sentence-transformers rank_bm25\n",
    "!pip install -q sagemaker"
   ]
  },
  {
   "cell_type": "markdown",
   "id": "40e5c6b7-5e9a-450f-9227-9efe5e88f536",
   "metadata": {
    "tags": []
   },
   "source": [
    "### 1.Preprocess and embed the text "
   ]
  },
  {
   "cell_type": "code",
   "execution_count": 11,
   "id": "289bb293-0c7f-40d9-a13e-4baea9456dc2",
   "metadata": {
    "tags": []
   },
   "outputs": [],
   "source": [
    "import pandas as pd \n",
    "from sentence_transformers import SentenceTransformer, util\n",
    "import boto3\n",
    "import torch\n",
    "import io\n",
    "import json\n",
    "import os \n",
    "from tqdm import tqdm\n",
    "#from io import BytesIO\n",
    "from inference import model_fn, predict_fn"
   ]
  },
  {
   "cell_type": "code",
   "execution_count": 5,
   "id": "5d928f0f-3c21-4f74-9eeb-8933492dc847",
   "metadata": {
    "tags": []
   },
   "outputs": [],
   "source": [
    "# Load metadata\n",
    "def read_parquet_from_s3_as_df(region, s3_bucket, s3_key):\n",
    "    \"\"\"\n",
    "    Load a Parquet file from an S3 bucket into a pandas DataFrame.\n",
    "\n",
    "    Parameters:\n",
    "    - region: AWS region where the S3 bucket is located.\n",
    "    - s3_bucket: Name of the S3 bucket.\n",
    "    - s3_key: Key (path) to the Parquet file within the S3 bucket.\n",
    "\n",
    "    Returns:\n",
    "    - df: pandas DataFrame containing the data from the Parquet file.\n",
    "    \"\"\"\n",
    "\n",
    "    # Setup AWS session and clients\n",
    "    session = boto3.Session(region_name=region)\n",
    "    s3 = session.resource('s3')\n",
    "\n",
    "    # Load the Parquet file as a pandas DataFrame\n",
    "    object = s3.Object(s3_bucket, s3_key)\n",
    "    body = object.get()['Body'].read()\n",
    "    df = pd.read_parquet(io.BytesIO(body))\n",
    "    return df\n",
    "\n",
    "\n",
    "# Upload the duplicate date to S3 as a parquet file \n",
    "def upload_df_to_s3_as_parquet(df, bucket_name, file_key):\n",
    "    # Save DataFrame as a Parquet file locally\n",
    "    parquet_file_path = 'temp.parquet'\n",
    "    df.to_parquet(parquet_file_path)\n",
    "\n",
    "    # Create an S3 client\n",
    "    s3_client = boto3.client('s3')\n",
    "\n",
    "    # Upload the Parquet file to S3 bucket\n",
    "    try:\n",
    "        response = s3_client.upload_file(parquet_file_path, bucket_name, file_key)\n",
    "        os.remove(parquet_file_path)\n",
    "        print(f'Uploading {file_key} to {bucket_name} as parquet file')\n",
    "        # Delete the local Parquet file\n",
    "        return True\n",
    "    except Exception as e:\n",
    "        print(e)\n",
    "        return False\n",
    "\n",
    "# Create new column 'organization_en' required by the API JSON response \n",
    "def extract_organisation_en(contact_str):\n",
    "    try:\n",
    "        # Parse the stringified JSON into Python objects\n",
    "        contact_data = json.loads(contact_str)\n",
    "        # If the parsed data is a list, iterate through it\n",
    "        if isinstance(contact_data, list):\n",
    "            for item in contact_data:\n",
    "                # Check if 'organisation' and 'en' keys exist\n",
    "                if 'organisation' in item and 'en' in item['organisation']:\n",
    "                    return item['organisation']['en']\n",
    "        elif isinstance(contact_data, dict):\n",
    "            # If the data is a dictionary, extract 'organisation' in 'en' directly\n",
    "            return contact_data.get('organisation', {}).get('en', None)\n",
    "    except json.JSONDecodeError:\n",
    "        # Handle cases where the contact string is not valid JSON\n",
    "        return None\n",
    "    except Exception as e:\n",
    "        # Catch-all for any other unexpected errors\n",
    "        return f\"Error: {str(e)}\"\n",
    "\n",
    "\n",
    "# Text preprocess\n",
    "def preprocess_records_into_text(df):\n",
    "    selected_columns = ['features_properties_title_en','features_properties_description_en','features_properties_keywords_en']\n",
    "    df = df[selected_columns]\n",
    "    return df.apply(lambda x: f\"{x['features_properties_title_en']}\\n{x['features_properties_description_en']}\\nkeywords:{x['features_properties_keywords_en']}\",axis=1 )"
   ]
  },
  {
   "cell_type": "markdown",
   "id": "602323d1-6b33-4116-99ee-2cc24898b0e0",
   "metadata": {},
   "source": [
    "Note, change the parquet bucket name to'-dev', '-stage', or '-prod' based on the environment you are running the file."
   ]
  },
  {
   "cell_type": "code",
   "execution_count": 6,
   "id": "bcff7e3e-fc15-46d4-ae58-b43fba44eb56",
   "metadata": {
    "tags": []
   },
   "outputs": [
    {
     "name": "stderr",
     "output_type": "stream",
     "text": [
      "/tmp/ipykernel_1736/2188400771.py:19: SettingWithCopyWarning: \n",
      "A value is trying to be set on a copy of a slice from a DataFrame.\n",
      "Try using .loc[row_indexer,col_indexer] = value instead\n",
      "\n",
      "See the caveats in the documentation: https://pandas.pydata.org/pandas-docs/stable/user_guide/indexing.html#returning-a-view-versus-a-copy\n",
      "  df_en['organisation_en'] = df_en['features_properties_contact'].apply(extract_organisation_en)\n",
      "/tmp/ipykernel_1736/2188400771.py:24: SettingWithCopyWarning: \n",
      "A value is trying to be set on a copy of a slice from a DataFrame.\n",
      "Try using .loc[row_indexer,col_indexer] = value instead\n",
      "\n",
      "See the caveats in the documentation: https://pandas.pydata.org/pandas-docs/stable/user_guide/indexing.html#returning-a-view-versus-a-copy\n",
      "  df_en[columns_to_replace] = df_en[columns_to_replace].replace(values_to_replace)\n",
      "/tmp/ipykernel_1736/2188400771.py:26: SettingWithCopyWarning: \n",
      "A value is trying to be set on a copy of a slice from a DataFrame.\n",
      "Try using .loc[row_indexer,col_indexer] = value instead\n",
      "\n",
      "See the caveats in the documentation: https://pandas.pydata.org/pandas-docs/stable/user_guide/indexing.html#returning-a-view-versus-a-copy\n",
      "  df_en['temporalExtent'] = df_en.apply(lambda row: {'begin': row['features_properties_temporalExtent_begin'], 'end': row['features_properties_temporalExtent_end']}, axis=1)\n"
     ]
    }
   ],
   "source": [
    "#1) Step1: Load the data \n",
    "df_parquet = read_parquet_from_s3_as_df('ca-central-1', 'webpresence-geocore-geojson-to-parquet-stage', 'records.parquet')\n",
    "df_sentinel1 = read_parquet_from_s3_as_df('ca-central-1', 'webpresence-geocore-geojson-to-parquet-stage', 'sentinel1.parquet')\n",
    "df = pd.concat([df_parquet, df_sentinel1], ignore_index=True)\n",
    "\n",
    "#2) Step2: Clean the data  \n",
    "col_names_list = [\n",
    "    'features_properties_id','features_geometry_coordinates','features_properties_title_en',\n",
    "    'features_properties_description_en','features_properties_date_published_date',\n",
    "    'features_properties_keywords_en','features_properties_options','features_properties_contact',\n",
    "    'features_properties_topicCategory','features_properties_date_created_date',\n",
    "    'features_properties_spatialRepresentation','features_properties_type',\n",
    "    'features_properties_temporalExtent_begin','features_properties_temporalExtent_end',\n",
    "    'features_properties_graphicOverview','features_properties_language','features_popularity',\n",
    "    'features_properties_sourceSystemName','features_properties_eoCollection',\n",
    "    'features_properties_eoFilters'\n",
    "]\n",
    "df_en = df[col_names_list]\n",
    "df_en['organisation_en'] = df_en['features_properties_contact'].apply(extract_organisation_en)\n",
    "\n",
    "# Create a new column 'temporalExtent' as a dictionary of {'begin': ..., 'end': ...}\n",
    "values_to_replace = {'Present': None, 'Not Available; Indisponible': None}\n",
    "columns_to_replace = ['features_properties_temporalExtent_begin', 'features_properties_temporalExtent_end']\n",
    "df_en[columns_to_replace] = df_en[columns_to_replace].replace(values_to_replace)\n",
    "\n",
    "df_en['temporalExtent'] = df_en.apply(lambda row: {'begin': row['features_properties_temporalExtent_begin'], 'end': row['features_properties_temporalExtent_end']}, axis=1)\n",
    "df_en = df_en.drop(columns =['features_properties_temporalExtent_begin', 'features_properties_temporalExtent_end'])\n",
    "\n",
    "values_to_replace = {'Not Available; Indisponible': None} # modifies dates to acceptable values\n",
    "columns_to_replace = ['features_properties_date_published_date', 'features_properties_date_created_date']\n",
    "df_en[columns_to_replace] = df_en[columns_to_replace].replace(values_to_replace)\n",
    "\n",
    "#3) Step 3: Preprocess text \n",
    "df_en['text'] = preprocess_records_into_text(df_en)"
   ]
  },
  {
   "cell_type": "code",
   "execution_count": 7,
   "id": "ee73ac05-8069-418a-a4b8-baa6d1458ac1",
   "metadata": {
    "tags": []
   },
   "outputs": [
    {
     "name": "stdout",
     "output_type": "stream",
     "text": [
      "<class 'str'>\n",
      "National Road Network - NRN - GeoBase Series\n",
      "Notice - Format decommissioning\\n\\nGML (Geography Markup Language) and KML (Keyhole Markup Language) distribution formats will no longer be included in NRN releases produced after April 1, 2022. After this date, NRN versions will still be available in GeoPackage and ESRI Shapefile formats. This change does not impact the currently available NRN releases on this portal.\\n\\nThe NRN product is distributed in the form of thirteen provincial or territorial datasets and consists of two linear entities (Road Segment and Ferry Connection Segment) and three punctual entities (Junction, Blocked Passage, Toll Point) with which is associated a series of descriptive attributes such as, among others: First House Number, Last House Number, Street Name Body, Place Name, Functional Road Class, Pavement Status, Number Of Lanes, Structure Type, Route Number, Route Name, Exit Number. The development of the NRN was realized by means of individual meetings and national workshops with interested data providers from the federal, provincial, territorial and municipal governments. In 2005, the NRN edition 2.0 was alternately adopted by members from the Inter-Agency Committee on Geomatics (IACG) and the Canadian Council on Geomatics (CCOG). The NRN content largely conforms to the ISO 14825 from ISO/TC 204.\n",
      "keywords:Canada, Geographic Infrastructure, NRN, National Road Network, Transport, Road transport, Infrastructure, Road maps, Road networks\n"
     ]
    }
   ],
   "source": [
    "df_en.describe()\n",
    "print(type(df_en['text'].head(6)[1]))\n",
    "print(df_en['text'].head(6)[1])\n"
   ]
  },
  {
   "cell_type": "markdown",
   "id": "1917c681-f60f-43f2-ab13-9ef406f7d56e",
   "metadata": {},
   "source": [
    "Before running step 4, download the finetuned model data (here 'all-mpnet-base-v2-huggingface') from the S3 bucket 'cloudformation-templates/lambda/semantic-search/model/' and upload the model data to the project folder 'semantic-search-with-amazon-opensearch/model' "
   ]
  },
  {
   "cell_type": "code",
   "execution_count": 8,
   "id": "3759feae-5f5a-4ae4-b084-b456f31dc758",
   "metadata": {
    "tags": []
   },
   "outputs": [
    {
     "name": "stderr",
     "output_type": "stream",
     "text": [
      "100%|██████████| 61302/61302 [3:22:36<00:00,  5.04it/s]  \n"
     ]
    }
   ],
   "source": [
    "# Step 4: Embedding text \n",
    "tqdm.pandas()\n",
    "model_directory =\"/home/ec2-user/SageMaker/semantic-search-with-amazon-opensearch/model/all-mpnet-base-v2-mpf-huggingface-reupload\"\n",
    "model = model_fn(model_directory)\n",
    "df_en['vector'] = df_en['text'].progress_apply(lambda x: predict_fn({\"inputs\": x}, model))"
   ]
  },
  {
   "cell_type": "code",
   "execution_count": 9,
   "id": "2302fb0f-cc83-4f7d-afce-78dff9325afe",
   "metadata": {
    "tags": []
   },
   "outputs": [
    {
     "name": "stdout",
     "output_type": "stream",
     "text": [
      "<class 'list'>\n",
      "768\n",
      "(61302,)\n"
     ]
    }
   ],
   "source": [
    "vector = df_en['vector'].head(6) \n",
    "#print(vector[0])\n",
    "print(type(vector[0]))\n",
    "print(len(vector[0]))\n",
    "print(df_en['vector'].shape)"
   ]
  },
  {
   "cell_type": "code",
   "execution_count": 37,
   "id": "a0034398-1aab-462a-915c-bb1593a1f3d9",
   "metadata": {
    "tags": []
   },
   "outputs": [
    {
     "data": {
      "text/html": [
       "<div>\n",
       "<style scoped>\n",
       "    .dataframe tbody tr th:only-of-type {\n",
       "        vertical-align: middle;\n",
       "    }\n",
       "\n",
       "    .dataframe tbody tr th {\n",
       "        vertical-align: top;\n",
       "    }\n",
       "\n",
       "    .dataframe thead th {\n",
       "        text-align: right;\n",
       "    }\n",
       "</style>\n",
       "<table border=\"1\" class=\"dataframe\">\n",
       "  <thead>\n",
       "    <tr style=\"text-align: right;\">\n",
       "      <th></th>\n",
       "      <th>features_properties_id</th>\n",
       "      <th>features_geometry_coordinates</th>\n",
       "      <th>features_properties_title_en</th>\n",
       "      <th>features_properties_description_en</th>\n",
       "      <th>features_properties_date_published_date</th>\n",
       "      <th>features_properties_keywords_en</th>\n",
       "      <th>features_properties_options</th>\n",
       "      <th>features_properties_contact</th>\n",
       "      <th>features_properties_topicCategory</th>\n",
       "      <th>features_properties_date_created_date</th>\n",
       "      <th>...</th>\n",
       "      <th>features_properties_graphicOverview</th>\n",
       "      <th>features_properties_language</th>\n",
       "      <th>features_popularity</th>\n",
       "      <th>features_properties_sourceSystemName</th>\n",
       "      <th>features_properties_eoCollection</th>\n",
       "      <th>features_properties_eoFilters</th>\n",
       "      <th>organisation_en</th>\n",
       "      <th>temporalExtent</th>\n",
       "      <th>text</th>\n",
       "      <th>vector</th>\n",
       "    </tr>\n",
       "  </thead>\n",
       "  <tbody>\n",
       "    <tr>\n",
       "      <th>0</th>\n",
       "      <td>d3881c4c-650d-4070-bf9b-1e00aabf0a1d</td>\n",
       "      <td>[[[-143, 39.05], [-47, 39.05], [-47, 85], [-14...</td>\n",
       "      <td>Canadian Hydrographic Service Non-Navigational...</td>\n",
       "      <td>**CHS NONNA data has been updated: April 21, 2...</td>\n",
       "      <td>2018-10-11</td>\n",
       "      <td>Bathymetry, Depth, Hydrography</td>\n",
       "      <td>[{\"url\": \"https://data.chs-shc.ca/\", \"protocol...</td>\n",
       "      <td>[{\"individual\": \"null\", \"position\": {\"en\": \"nu...</td>\n",
       "      <td>oceans, inlandWaters</td>\n",
       "      <td>2018-10-01</td>\n",
       "      <td>...</td>\n",
       "      <td>[{\"overviewFileName\": \"https://pacgis01.dfo-mp...</td>\n",
       "      <td>eng; CAN</td>\n",
       "      <td>3929</td>\n",
       "      <td>cgp</td>\n",
       "      <td>&lt;NA&gt;</td>\n",
       "      <td>[]</td>\n",
       "      <td>Government of Canada; Fisheries and Oceans Can...</td>\n",
       "      <td>{'begin': &lt;NA&gt;, 'end': &lt;NA&gt;}</td>\n",
       "      <td>Canadian Hydrographic Service Non-Navigational...</td>\n",
       "      <td>[0.026849709451198578, 0.023685483261942863, -...</td>\n",
       "    </tr>\n",
       "    <tr>\n",
       "      <th>1</th>\n",
       "      <td>3d282116-e556-400c-9306-ca1a3cada77f</td>\n",
       "      <td>[[[-141.0027151, 41.7], [-52.6, 41.7], [-52.6,...</td>\n",
       "      <td>National Road Network - NRN - GeoBase Series</td>\n",
       "      <td>Notice - Format decommissioning\\n\\nGML (Geogra...</td>\n",
       "      <td>2015</td>\n",
       "      <td>Canada, Geographic Infrastructure, NRN, Nation...</td>\n",
       "      <td>[{\"url\": \"https://geo.statcan.gc.ca/geo_wa/ser...</td>\n",
       "      <td>[{\"individual\": \"null\", \"position\": {\"en\": \"nu...</td>\n",
       "      <td>transportation</td>\n",
       "      <td>2010</td>\n",
       "      <td>...</td>\n",
       "      <td>[{\"overviewFileName\": \"http://ftp.geogratis.gc...</td>\n",
       "      <td>eng; CAN</td>\n",
       "      <td>1991</td>\n",
       "      <td>cgp</td>\n",
       "      <td>&lt;NA&gt;</td>\n",
       "      <td>[]</td>\n",
       "      <td>Government of Canada; Statistics Canada</td>\n",
       "      <td>{'begin': '1979-07', 'end': '2020-05'}</td>\n",
       "      <td>National Road Network - NRN - GeoBase Series\\n...</td>\n",
       "      <td>[0.056445203721523285, 0.06621260195970535, 0....</td>\n",
       "    </tr>\n",
       "    <tr>\n",
       "      <th>2</th>\n",
       "      <td>b6567c5c-8339-4055-99fa-63f92114d9e4</td>\n",
       "      <td>[[[-141.003, 41.6755], [-52.6174, 41.6755], [-...</td>\n",
       "      <td>First Nations Location</td>\n",
       "      <td>The First Nations geographic location dataset ...</td>\n",
       "      <td>2015-05-01</td>\n",
       "      <td>First Nation, Band, Aboriginal, Indian and Nor...</td>\n",
       "      <td>[{\"url\": \"https://data.aadnc-aandc.gc.ca/geoma...</td>\n",
       "      <td>[{\"individual\": \"null\", \"position\": {\"en\": \"Me...</td>\n",
       "      <td>location, society</td>\n",
       "      <td>2007-06-01</td>\n",
       "      <td>...</td>\n",
       "      <td>[{\"overviewFileName\": \"https://data.aadnc-aand...</td>\n",
       "      <td>eng; CAN</td>\n",
       "      <td>1881</td>\n",
       "      <td>cgp</td>\n",
       "      <td>&lt;NA&gt;</td>\n",
       "      <td>[]</td>\n",
       "      <td>Government of Canada;Indigenous Services Canad...</td>\n",
       "      <td>{'begin': '2007-06-01', 'end': &lt;NA&gt;}</td>\n",
       "      <td>First Nations Location\\nThe First Nations geog...</td>\n",
       "      <td>[-0.0003571372071746737, 0.02866480126976967, ...</td>\n",
       "    </tr>\n",
       "    <tr>\n",
       "      <th>3</th>\n",
       "      <td>522b07b9-78e2-4819-b736-ad9208eb1067</td>\n",
       "      <td>[[[-141.003, 41.6755], [-52.6174, 41.6755], [-...</td>\n",
       "      <td>Aboriginal Lands of Canada Legislative Boundaries</td>\n",
       "      <td>The Aboriginal Lands of Canada Legislative Bou...</td>\n",
       "      <td>2017-07-28</td>\n",
       "      <td>Canada Lands, Indian reserves, Land management...</td>\n",
       "      <td>[{\"url\": \"https://proxyinternet.nrcan-rncan.gc...</td>\n",
       "      <td>[{\"individual\": \"null\", \"position\": {\"en\": \"nu...</td>\n",
       "      <td>boundaries</td>\n",
       "      <td>2016-02-03</td>\n",
       "      <td>...</td>\n",
       "      <td>[]</td>\n",
       "      <td>eng; CAN</td>\n",
       "      <td>1832</td>\n",
       "      <td>cgp</td>\n",
       "      <td>&lt;NA&gt;</td>\n",
       "      <td>[]</td>\n",
       "      <td>Government of Canada; Natural Resources Canada...</td>\n",
       "      <td>{'begin': '2004-04-02', 'end': &lt;NA&gt;}</td>\n",
       "      <td>Aboriginal Lands of Canada Legislative Boundar...</td>\n",
       "      <td>[0.03291967511177063, -0.02788965404033661, -0...</td>\n",
       "    </tr>\n",
       "  </tbody>\n",
       "</table>\n",
       "<p>4 rows × 22 columns</p>\n",
       "</div>"
      ],
      "text/plain": [
       "                 features_properties_id  \\\n",
       "0  d3881c4c-650d-4070-bf9b-1e00aabf0a1d   \n",
       "1  3d282116-e556-400c-9306-ca1a3cada77f   \n",
       "2  b6567c5c-8339-4055-99fa-63f92114d9e4   \n",
       "3  522b07b9-78e2-4819-b736-ad9208eb1067   \n",
       "\n",
       "                       features_geometry_coordinates  \\\n",
       "0  [[[-143, 39.05], [-47, 39.05], [-47, 85], [-14...   \n",
       "1  [[[-141.0027151, 41.7], [-52.6, 41.7], [-52.6,...   \n",
       "2  [[[-141.003, 41.6755], [-52.6174, 41.6755], [-...   \n",
       "3  [[[-141.003, 41.6755], [-52.6174, 41.6755], [-...   \n",
       "\n",
       "                        features_properties_title_en  \\\n",
       "0  Canadian Hydrographic Service Non-Navigational...   \n",
       "1       National Road Network - NRN - GeoBase Series   \n",
       "2                             First Nations Location   \n",
       "3  Aboriginal Lands of Canada Legislative Boundaries   \n",
       "\n",
       "                  features_properties_description_en  \\\n",
       "0  **CHS NONNA data has been updated: April 21, 2...   \n",
       "1  Notice - Format decommissioning\\n\\nGML (Geogra...   \n",
       "2  The First Nations geographic location dataset ...   \n",
       "3  The Aboriginal Lands of Canada Legislative Bou...   \n",
       "\n",
       "  features_properties_date_published_date  \\\n",
       "0                              2018-10-11   \n",
       "1                                    2015   \n",
       "2                              2015-05-01   \n",
       "3                              2017-07-28   \n",
       "\n",
       "                     features_properties_keywords_en  \\\n",
       "0                     Bathymetry, Depth, Hydrography   \n",
       "1  Canada, Geographic Infrastructure, NRN, Nation...   \n",
       "2  First Nation, Band, Aboriginal, Indian and Nor...   \n",
       "3  Canada Lands, Indian reserves, Land management...   \n",
       "\n",
       "                         features_properties_options  \\\n",
       "0  [{\"url\": \"https://data.chs-shc.ca/\", \"protocol...   \n",
       "1  [{\"url\": \"https://geo.statcan.gc.ca/geo_wa/ser...   \n",
       "2  [{\"url\": \"https://data.aadnc-aandc.gc.ca/geoma...   \n",
       "3  [{\"url\": \"https://proxyinternet.nrcan-rncan.gc...   \n",
       "\n",
       "                         features_properties_contact  \\\n",
       "0  [{\"individual\": \"null\", \"position\": {\"en\": \"nu...   \n",
       "1  [{\"individual\": \"null\", \"position\": {\"en\": \"nu...   \n",
       "2  [{\"individual\": \"null\", \"position\": {\"en\": \"Me...   \n",
       "3  [{\"individual\": \"null\", \"position\": {\"en\": \"nu...   \n",
       "\n",
       "  features_properties_topicCategory features_properties_date_created_date  \\\n",
       "0              oceans, inlandWaters                            2018-10-01   \n",
       "1                    transportation                                  2010   \n",
       "2                 location, society                            2007-06-01   \n",
       "3                        boundaries                            2016-02-03   \n",
       "\n",
       "   ...                features_properties_graphicOverview  \\\n",
       "0  ...  [{\"overviewFileName\": \"https://pacgis01.dfo-mp...   \n",
       "1  ...  [{\"overviewFileName\": \"http://ftp.geogratis.gc...   \n",
       "2  ...  [{\"overviewFileName\": \"https://data.aadnc-aand...   \n",
       "3  ...                                                 []   \n",
       "\n",
       "  features_properties_language features_popularity  \\\n",
       "0                     eng; CAN                3929   \n",
       "1                     eng; CAN                1991   \n",
       "2                     eng; CAN                1881   \n",
       "3                     eng; CAN                1832   \n",
       "\n",
       "  features_properties_sourceSystemName features_properties_eoCollection  \\\n",
       "0                                  cgp                             <NA>   \n",
       "1                                  cgp                             <NA>   \n",
       "2                                  cgp                             <NA>   \n",
       "3                                  cgp                             <NA>   \n",
       "\n",
       "  features_properties_eoFilters  \\\n",
       "0                            []   \n",
       "1                            []   \n",
       "2                            []   \n",
       "3                            []   \n",
       "\n",
       "                                     organisation_en  \\\n",
       "0  Government of Canada; Fisheries and Oceans Can...   \n",
       "1            Government of Canada; Statistics Canada   \n",
       "2  Government of Canada;Indigenous Services Canad...   \n",
       "3  Government of Canada; Natural Resources Canada...   \n",
       "\n",
       "                           temporalExtent  \\\n",
       "0            {'begin': <NA>, 'end': <NA>}   \n",
       "1  {'begin': '1979-07', 'end': '2020-05'}   \n",
       "2    {'begin': '2007-06-01', 'end': <NA>}   \n",
       "3    {'begin': '2004-04-02', 'end': <NA>}   \n",
       "\n",
       "                                                text  \\\n",
       "0  Canadian Hydrographic Service Non-Navigational...   \n",
       "1  National Road Network - NRN - GeoBase Series\\n...   \n",
       "2  First Nations Location\\nThe First Nations geog...   \n",
       "3  Aboriginal Lands of Canada Legislative Boundar...   \n",
       "\n",
       "                                              vector  \n",
       "0  [0.026849709451198578, 0.023685483261942863, -...  \n",
       "1  [0.056445203721523285, 0.06621260195970535, 0....  \n",
       "2  [-0.0003571372071746737, 0.02866480126976967, ...  \n",
       "3  [0.03291967511177063, -0.02788965404033661, -0...  \n",
       "\n",
       "[4 rows x 22 columns]"
      ]
     },
     "execution_count": 37,
     "metadata": {},
     "output_type": "execute_result"
    }
   ],
   "source": [
    "df_en.head(4)"
   ]
  },
  {
   "cell_type": "code",
   "execution_count": 12,
   "id": "367ebc98-e96f-4d4c-92d1-d7987f3d0d5d",
   "metadata": {
    "tags": []
   },
   "outputs": [
    {
     "name": "stdout",
     "output_type": "stream",
     "text": [
      "Uploading semantic_search_embeddings-mpnet-mpf.parquet to webpresence-nlp-data-preprocessing-stage as parquet file\n"
     ]
    },
    {
     "data": {
      "text/plain": [
       "True"
      ]
     },
     "execution_count": 12,
     "metadata": {},
     "output_type": "execute_result"
    }
   ],
   "source": [
    "# Step 5 Upload the embeddings as a parquet file to S3 bucket \n",
    "upload_df_to_s3_as_parquet(df=df_en, bucket_name='webpresence-nlp-data-preprocessing-stage', file_key='semantic_search_embeddings-mpnet-mpf.parquet') "
   ]
  },
  {
   "cell_type": "markdown",
   "id": "22038965-7c6d-4ae8-95ac-5056e417a960",
   "metadata": {},
   "source": [
    "### 2. Create OpenSearch index and load text/vector data into the index \n"
   ]
  },
  {
   "cell_type": "code",
   "execution_count": 45,
   "id": "983494e2-60fc-4e56-bf2f-18d3d7cf5b16",
   "metadata": {
    "tags": []
   },
   "outputs": [],
   "source": [
    "# import json\n",
    "# import time\n",
    "# import boto3\n",
    "\n",
    "# from tqdm import tqdm\n",
    "# from urllib.parse import urlparse\n",
    "# from opensearchpy import OpenSearch, RequestsHttpConnection, AWSV4SignerAuth\n",
    "from opensearch import get_awsauth_from_secret, create_opensearch_connection, delete_aos_index_if_exists, load_data_to_opensearch_index\n",
    "from Preprocess_and_embed_text import read_parquet_from_s3_as_df"
   ]
  },
  {
   "cell_type": "code",
   "execution_count": 39,
   "id": "6198be8c-43a6-4b0a-8dc8-03f5b6bf343e",
   "metadata": {
    "tags": []
   },
   "outputs": [],
   "source": [
    "#Optional: read the embedding data from the S3 bucket \n",
    "# df_en = read_parquet_from_s3_as_df('ca-central-1', 'webpresence-nlp-data-preprocessing-stage', 'semantic_search_embeddings-mpnet-mpf.parquet')"
   ]
  },
  {
   "cell_type": "code",
   "execution_count": 46,
   "id": "4c1a78b8-3a7d-4c6e-9113-d0908d325eb9",
   "metadata": {
    "tags": []
   },
   "outputs": [
    {
     "data": {
      "text/html": [
       "<div>\n",
       "<style scoped>\n",
       "    .dataframe tbody tr th:only-of-type {\n",
       "        vertical-align: middle;\n",
       "    }\n",
       "\n",
       "    .dataframe tbody tr th {\n",
       "        vertical-align: top;\n",
       "    }\n",
       "\n",
       "    .dataframe thead th {\n",
       "        text-align: right;\n",
       "    }\n",
       "</style>\n",
       "<table border=\"1\" class=\"dataframe\">\n",
       "  <thead>\n",
       "    <tr style=\"text-align: right;\">\n",
       "      <th></th>\n",
       "      <th>features_properties_id</th>\n",
       "      <th>features_geometry_coordinates</th>\n",
       "      <th>features_properties_title_en</th>\n",
       "      <th>features_properties_description_en</th>\n",
       "      <th>features_properties_date_published_date</th>\n",
       "      <th>features_properties_keywords_en</th>\n",
       "      <th>features_properties_options</th>\n",
       "      <th>features_properties_contact</th>\n",
       "      <th>features_properties_topicCategory</th>\n",
       "      <th>features_properties_date_created_date</th>\n",
       "      <th>...</th>\n",
       "      <th>features_properties_graphicOverview</th>\n",
       "      <th>features_properties_language</th>\n",
       "      <th>features_popularity</th>\n",
       "      <th>features_properties_sourceSystemName</th>\n",
       "      <th>features_properties_eoCollection</th>\n",
       "      <th>features_properties_eoFilters</th>\n",
       "      <th>organisation_en</th>\n",
       "      <th>temporalExtent</th>\n",
       "      <th>text</th>\n",
       "      <th>vector</th>\n",
       "    </tr>\n",
       "  </thead>\n",
       "  <tbody>\n",
       "    <tr>\n",
       "      <th>0</th>\n",
       "      <td>d3881c4c-650d-4070-bf9b-1e00aabf0a1d</td>\n",
       "      <td>[[[-143, 39.05], [-47, 39.05], [-47, 85], [-14...</td>\n",
       "      <td>Canadian Hydrographic Service Non-Navigational...</td>\n",
       "      <td>**CHS NONNA data has been updated: April 21, 2...</td>\n",
       "      <td>2018-10-11</td>\n",
       "      <td>Bathymetry, Depth, Hydrography</td>\n",
       "      <td>[{\"url\": \"https://data.chs-shc.ca/\", \"protocol...</td>\n",
       "      <td>[{\"individual\": \"null\", \"position\": {\"en\": \"nu...</td>\n",
       "      <td>oceans, inlandWaters</td>\n",
       "      <td>2018-10-01</td>\n",
       "      <td>...</td>\n",
       "      <td>[{\"overviewFileName\": \"https://pacgis01.dfo-mp...</td>\n",
       "      <td>eng; CAN</td>\n",
       "      <td>3929</td>\n",
       "      <td>cgp</td>\n",
       "      <td>&lt;NA&gt;</td>\n",
       "      <td>[]</td>\n",
       "      <td>Government of Canada; Fisheries and Oceans Can...</td>\n",
       "      <td>{'begin': &lt;NA&gt;, 'end': &lt;NA&gt;}</td>\n",
       "      <td>Canadian Hydrographic Service Non-Navigational...</td>\n",
       "      <td>[0.026849709451198578, 0.023685483261942863, -...</td>\n",
       "    </tr>\n",
       "    <tr>\n",
       "      <th>1</th>\n",
       "      <td>3d282116-e556-400c-9306-ca1a3cada77f</td>\n",
       "      <td>[[[-141.0027151, 41.7], [-52.6, 41.7], [-52.6,...</td>\n",
       "      <td>National Road Network - NRN - GeoBase Series</td>\n",
       "      <td>Notice - Format decommissioning\\n\\nGML (Geogra...</td>\n",
       "      <td>2015</td>\n",
       "      <td>Canada, Geographic Infrastructure, NRN, Nation...</td>\n",
       "      <td>[{\"url\": \"https://geo.statcan.gc.ca/geo_wa/ser...</td>\n",
       "      <td>[{\"individual\": \"null\", \"position\": {\"en\": \"nu...</td>\n",
       "      <td>transportation</td>\n",
       "      <td>2010</td>\n",
       "      <td>...</td>\n",
       "      <td>[{\"overviewFileName\": \"http://ftp.geogratis.gc...</td>\n",
       "      <td>eng; CAN</td>\n",
       "      <td>1991</td>\n",
       "      <td>cgp</td>\n",
       "      <td>&lt;NA&gt;</td>\n",
       "      <td>[]</td>\n",
       "      <td>Government of Canada; Statistics Canada</td>\n",
       "      <td>{'begin': '1979-07', 'end': '2020-05'}</td>\n",
       "      <td>National Road Network - NRN - GeoBase Series\\n...</td>\n",
       "      <td>[0.056445203721523285, 0.06621260195970535, 0....</td>\n",
       "    </tr>\n",
       "    <tr>\n",
       "      <th>2</th>\n",
       "      <td>b6567c5c-8339-4055-99fa-63f92114d9e4</td>\n",
       "      <td>[[[-141.003, 41.6755], [-52.6174, 41.6755], [-...</td>\n",
       "      <td>First Nations Location</td>\n",
       "      <td>The First Nations geographic location dataset ...</td>\n",
       "      <td>2015-05-01</td>\n",
       "      <td>First Nation, Band, Aboriginal, Indian and Nor...</td>\n",
       "      <td>[{\"url\": \"https://data.aadnc-aandc.gc.ca/geoma...</td>\n",
       "      <td>[{\"individual\": \"null\", \"position\": {\"en\": \"Me...</td>\n",
       "      <td>location, society</td>\n",
       "      <td>2007-06-01</td>\n",
       "      <td>...</td>\n",
       "      <td>[{\"overviewFileName\": \"https://data.aadnc-aand...</td>\n",
       "      <td>eng; CAN</td>\n",
       "      <td>1881</td>\n",
       "      <td>cgp</td>\n",
       "      <td>&lt;NA&gt;</td>\n",
       "      <td>[]</td>\n",
       "      <td>Government of Canada;Indigenous Services Canad...</td>\n",
       "      <td>{'begin': '2007-06-01', 'end': &lt;NA&gt;}</td>\n",
       "      <td>First Nations Location\\nThe First Nations geog...</td>\n",
       "      <td>[-0.0003571372071746737, 0.02866480126976967, ...</td>\n",
       "    </tr>\n",
       "    <tr>\n",
       "      <th>3</th>\n",
       "      <td>522b07b9-78e2-4819-b736-ad9208eb1067</td>\n",
       "      <td>[[[-141.003, 41.6755], [-52.6174, 41.6755], [-...</td>\n",
       "      <td>Aboriginal Lands of Canada Legislative Boundaries</td>\n",
       "      <td>The Aboriginal Lands of Canada Legislative Bou...</td>\n",
       "      <td>2017-07-28</td>\n",
       "      <td>Canada Lands, Indian reserves, Land management...</td>\n",
       "      <td>[{\"url\": \"https://proxyinternet.nrcan-rncan.gc...</td>\n",
       "      <td>[{\"individual\": \"null\", \"position\": {\"en\": \"nu...</td>\n",
       "      <td>boundaries</td>\n",
       "      <td>2016-02-03</td>\n",
       "      <td>...</td>\n",
       "      <td>[]</td>\n",
       "      <td>eng; CAN</td>\n",
       "      <td>1832</td>\n",
       "      <td>cgp</td>\n",
       "      <td>&lt;NA&gt;</td>\n",
       "      <td>[]</td>\n",
       "      <td>Government of Canada; Natural Resources Canada...</td>\n",
       "      <td>{'begin': '2004-04-02', 'end': &lt;NA&gt;}</td>\n",
       "      <td>Aboriginal Lands of Canada Legislative Boundar...</td>\n",
       "      <td>[0.03291967511177063, -0.02788965404033661, -0...</td>\n",
       "    </tr>\n",
       "  </tbody>\n",
       "</table>\n",
       "<p>4 rows × 22 columns</p>\n",
       "</div>"
      ],
      "text/plain": [
       "                 features_properties_id  \\\n",
       "0  d3881c4c-650d-4070-bf9b-1e00aabf0a1d   \n",
       "1  3d282116-e556-400c-9306-ca1a3cada77f   \n",
       "2  b6567c5c-8339-4055-99fa-63f92114d9e4   \n",
       "3  522b07b9-78e2-4819-b736-ad9208eb1067   \n",
       "\n",
       "                       features_geometry_coordinates  \\\n",
       "0  [[[-143, 39.05], [-47, 39.05], [-47, 85], [-14...   \n",
       "1  [[[-141.0027151, 41.7], [-52.6, 41.7], [-52.6,...   \n",
       "2  [[[-141.003, 41.6755], [-52.6174, 41.6755], [-...   \n",
       "3  [[[-141.003, 41.6755], [-52.6174, 41.6755], [-...   \n",
       "\n",
       "                        features_properties_title_en  \\\n",
       "0  Canadian Hydrographic Service Non-Navigational...   \n",
       "1       National Road Network - NRN - GeoBase Series   \n",
       "2                             First Nations Location   \n",
       "3  Aboriginal Lands of Canada Legislative Boundaries   \n",
       "\n",
       "                  features_properties_description_en  \\\n",
       "0  **CHS NONNA data has been updated: April 21, 2...   \n",
       "1  Notice - Format decommissioning\\n\\nGML (Geogra...   \n",
       "2  The First Nations geographic location dataset ...   \n",
       "3  The Aboriginal Lands of Canada Legislative Bou...   \n",
       "\n",
       "  features_properties_date_published_date  \\\n",
       "0                              2018-10-11   \n",
       "1                                    2015   \n",
       "2                              2015-05-01   \n",
       "3                              2017-07-28   \n",
       "\n",
       "                     features_properties_keywords_en  \\\n",
       "0                     Bathymetry, Depth, Hydrography   \n",
       "1  Canada, Geographic Infrastructure, NRN, Nation...   \n",
       "2  First Nation, Band, Aboriginal, Indian and Nor...   \n",
       "3  Canada Lands, Indian reserves, Land management...   \n",
       "\n",
       "                         features_properties_options  \\\n",
       "0  [{\"url\": \"https://data.chs-shc.ca/\", \"protocol...   \n",
       "1  [{\"url\": \"https://geo.statcan.gc.ca/geo_wa/ser...   \n",
       "2  [{\"url\": \"https://data.aadnc-aandc.gc.ca/geoma...   \n",
       "3  [{\"url\": \"https://proxyinternet.nrcan-rncan.gc...   \n",
       "\n",
       "                         features_properties_contact  \\\n",
       "0  [{\"individual\": \"null\", \"position\": {\"en\": \"nu...   \n",
       "1  [{\"individual\": \"null\", \"position\": {\"en\": \"nu...   \n",
       "2  [{\"individual\": \"null\", \"position\": {\"en\": \"Me...   \n",
       "3  [{\"individual\": \"null\", \"position\": {\"en\": \"nu...   \n",
       "\n",
       "  features_properties_topicCategory features_properties_date_created_date  \\\n",
       "0              oceans, inlandWaters                            2018-10-01   \n",
       "1                    transportation                                  2010   \n",
       "2                 location, society                            2007-06-01   \n",
       "3                        boundaries                            2016-02-03   \n",
       "\n",
       "   ...                features_properties_graphicOverview  \\\n",
       "0  ...  [{\"overviewFileName\": \"https://pacgis01.dfo-mp...   \n",
       "1  ...  [{\"overviewFileName\": \"http://ftp.geogratis.gc...   \n",
       "2  ...  [{\"overviewFileName\": \"https://data.aadnc-aand...   \n",
       "3  ...                                                 []   \n",
       "\n",
       "  features_properties_language features_popularity  \\\n",
       "0                     eng; CAN                3929   \n",
       "1                     eng; CAN                1991   \n",
       "2                     eng; CAN                1881   \n",
       "3                     eng; CAN                1832   \n",
       "\n",
       "  features_properties_sourceSystemName features_properties_eoCollection  \\\n",
       "0                                  cgp                             <NA>   \n",
       "1                                  cgp                             <NA>   \n",
       "2                                  cgp                             <NA>   \n",
       "3                                  cgp                             <NA>   \n",
       "\n",
       "  features_properties_eoFilters  \\\n",
       "0                            []   \n",
       "1                            []   \n",
       "2                            []   \n",
       "3                            []   \n",
       "\n",
       "                                     organisation_en  \\\n",
       "0  Government of Canada; Fisheries and Oceans Can...   \n",
       "1            Government of Canada; Statistics Canada   \n",
       "2  Government of Canada;Indigenous Services Canad...   \n",
       "3  Government of Canada; Natural Resources Canada...   \n",
       "\n",
       "                           temporalExtent  \\\n",
       "0            {'begin': <NA>, 'end': <NA>}   \n",
       "1  {'begin': '1979-07', 'end': '2020-05'}   \n",
       "2    {'begin': '2007-06-01', 'end': <NA>}   \n",
       "3    {'begin': '2004-04-02', 'end': <NA>}   \n",
       "\n",
       "                                                text  \\\n",
       "0  Canadian Hydrographic Service Non-Navigational...   \n",
       "1  National Road Network - NRN - GeoBase Series\\n...   \n",
       "2  First Nations Location\\nThe First Nations geog...   \n",
       "3  Aboriginal Lands of Canada Legislative Boundar...   \n",
       "\n",
       "                                              vector  \n",
       "0  [0.026849709451198578, 0.023685483261942863, -...  \n",
       "1  [0.056445203721523285, 0.06621260195970535, 0....  \n",
       "2  [-0.0003571372071746737, 0.02866480126976967, ...  \n",
       "3  [0.03291967511177063, -0.02788965404033661, -0...  \n",
       "\n",
       "[4 rows x 22 columns]"
      ]
     },
     "execution_count": 46,
     "metadata": {},
     "output_type": "execute_result"
    }
   ],
   "source": [
    "df_en.head(4)"
   ]
  },
  {
   "cell_type": "markdown",
   "id": "83f75853-5dfb-4342-a497-8eec0c944220",
   "metadata": {},
   "source": [
    "Under the cloudformation template 'geocore-semantic-search-with-opensearch-stage; Output tab, find the values for region, aos_host, and os_secret_id"
   ]
  },
  {
   "cell_type": "code",
   "execution_count": 47,
   "id": "ee551457-b480-460e-8f87-4e9b94c05db4",
   "metadata": {
    "tags": []
   },
   "outputs": [
    {
     "name": "stdout",
     "output_type": "stream",
     "text": [
      "Connection to OpenSearch established: <OpenSearch([{'host': 'search-semantic-search-arieibeskhrn6vn2qd7gf5br7q.ca-central-1.es.amazonaws.com', 'port': 443}])>\n"
     ]
    }
   ],
   "source": [
    "# Create a opensearch connection \n",
    "# region = environ['MY_AWS_REGION']\n",
    "# aos_host = environ['OS_ENDPOINT'] \n",
    "# os_secret_id = environ['OS_SECRET_ID']\n",
    "\n",
    "region = \"ca-central-1\"\n",
    "aos_host = \"search-semantic-search-arieibeskhrn6vn2qd7gf5br7q.ca-central-1.es.amazonaws.com\"\n",
    "os_secret_id = \"OpenSearchSecret-geocore-semantic-search-with-opensearch-stage\"\n",
    "\n",
    "#awsauth = get_awsauth_from_secret(region, secret_id=os_secret_id)\n",
    "awsauth = (\"admin\", \"Semantic123!\")\n",
    "aos_client =create_opensearch_connection(aos_host, awsauth)\n"
   ]
  },
  {
   "cell_type": "code",
   "execution_count": 48,
   "id": "aa9b4c18-76ce-45ba-abf7-fe833236b67a",
   "metadata": {
    "tags": []
   },
   "outputs": [],
   "source": [
    "#Create an index \n",
    "index_name = \"mpnet-mpf-knn\"\n",
    "knn_index = {\n",
    "    \"settings\": {\n",
    "        \"index.knn\": True, #This enables the k-nearest neighbor (KNN) search capability on the index.\n",
    "        \"index.knn.space_type\": \"cosinesimil\", #cosine similarity \n",
    "        \"analysis\": {\n",
    "          \"analyzer\": {\n",
    "            \"default\": {\n",
    "              \"type\": \"standard\",\n",
    "              \"stopwords\": \"_english_\"\n",
    "            }\n",
    "          }\n",
    "        }\n",
    "    },\n",
    "    \"mappings\": {\n",
    "        \"properties\": {\n",
    "            \"vector\": {\n",
    "                \"type\": \"knn_vector\",\n",
    "                \"dimension\": 768,\n",
    "                \"store\": True\n",
    "            },\n",
    "            \"coordinates\":{\n",
    "              \"type\": \"geo_shape\", \n",
    "              \"store\": True \n",
    "            }  \n",
    "        }\n",
    "    }\n",
    "}"
   ]
  },
  {
   "cell_type": "code",
   "execution_count": 49,
   "id": "528ef036-b3a1-4142-ae29-86828feff5bb",
   "metadata": {
    "tags": []
   },
   "outputs": [
    {
     "name": "stdout",
     "output_type": "stream",
     "text": [
      "Current indexes: ['minilm-knn', 'minilm-pretrain-knn', '.opensearch-observability', '.plugins-ml-config', '.ql-datasources', '.kibana_1', '.opendistro_security', 'mpnet-mpf-knn']\n",
      "Deleted index: mpnet-mpf-knn\n",
      "Response: {'acknowledged': True}\n",
      "Indexes after deletion attempt: ['minilm-knn', 'minilm-pretrain-knn', '.opensearch-observability', '.plugins-ml-config', '.ql-datasources', '.kibana_1', '.opendistro_security']\n"
     ]
    }
   ],
   "source": [
    "#Delete index if it exists \n",
    "delete_aos_index_if_exists(aos_client, index_to_delete=index_name)"
   ]
  },
  {
   "cell_type": "code",
   "execution_count": 50,
   "id": "9ccc73b1-0254-4f05-aa39-08d1022bb747",
   "metadata": {
    "tags": []
   },
   "outputs": [
    {
     "data": {
      "text/plain": [
       "{'acknowledged': True, 'shards_acknowledged': True, 'index': 'mpnet-mpf-knn'}"
      ]
     },
     "execution_count": 50,
     "metadata": {},
     "output_type": "execute_result"
    }
   ],
   "source": [
    "#Create a index \n",
    "aos_client.indices.create(index=index_name,body=knn_index,ignore=400)"
   ]
  },
  {
   "cell_type": "code",
   "execution_count": null,
   "id": "322cb844-0cf7-44db-a14d-6793931f624f",
   "metadata": {},
   "outputs": [],
   "source": [
    "#Load data to OpenSearch Index \n",
    "load_data_to_opensearch_index(df_en, aos_client, index_name)"
   ]
  },
  {
   "cell_type": "code",
   "execution_count": 52,
   "id": "353f5d44-f02e-4645-939d-a3b3951736fa",
   "metadata": {
    "tags": []
   },
   "outputs": [
    {
     "name": "stdout",
     "output_type": "stream",
     "text": [
      "Records loaded into the index mpnet-mpf-knn is 10000.\n"
     ]
    }
   ],
   "source": [
    "#Check \n",
    "res = aos_client.search(index=index_name, body={\"query\": {\"match_all\": {}}})\n",
    "print(f\"Records loaded into the index {index_name} is {res['hits']['total']['value']}.\")"
   ]
  },
  {
   "cell_type": "markdown",
   "id": "2cd3585b-389c-4388-a069-e52d7ce980aa",
   "metadata": {},
   "source": [
    "### 3. Deploy all-mpnet-base-v2-mpf-huggingface model using sagemaker "
   ]
  },
  {
   "cell_type": "code",
   "execution_count": 53,
   "id": "6457c3d9-d25d-475b-90e0-cb4c68cf43ff",
   "metadata": {
    "tags": []
   },
   "outputs": [
    {
     "name": "stdout",
     "output_type": "stream",
     "text": [
      "sagemaker.config INFO - Not applying SDK defaults from location: /etc/xdg/sagemaker/config.yaml\n",
      "sagemaker.config INFO - Not applying SDK defaults from location: /home/ec2-user/.config/sagemaker/config.yaml\n"
     ]
    }
   ],
   "source": [
    "import boto3\n",
    "import re\n",
    "import time\n",
    "import sagemaker\n",
    "from sagemaker import get_execution_role\n",
    "from sagemaker.huggingface.model import HuggingFaceModel"
   ]
  },
  {
   "cell_type": "code",
   "execution_count": 57,
   "id": "899fa5d8-1bd1-4b14-a5c4-468dd29b7984",
   "metadata": {
    "tags": []
   },
   "outputs": [
    {
     "name": "stderr",
     "output_type": "stream",
     "text": [
      "huggingface/tokenizers: The current process just got forked, after parallelism has already been used. Disabling parallelism to avoid deadlocks...\n",
      "To disable this warning, you can either:\n",
      "\t- Avoid using `tokenizers` before the fork if possible\n",
      "\t- Explicitly set the environment variable TOKENIZERS_PARALLELISM=(true | false)\n"
     ]
    },
    {
     "name": "stdout",
     "output_type": "stream",
     "text": [
      "1_Pooling/\n",
      "1_Pooling/.ipynb_checkpoints/\n",
      "1_Pooling/config.json\n",
      "2_Normalize/\n",
      "code/\n",
      "code/inference.py\n",
      "code/requirements.txt\n",
      "config_2.json\n",
      "config.json\n",
      "config_sentence_transformers.json\n",
      "eval/\n",
      "model.safetensors\n",
      "modules.json\n",
      "README.md\n",
      "sentence_bert_config.json\n",
      "special_tokens_map.json\n",
      "tokenizer_config.json\n",
      "tokenizer.json\n",
      "vocab.txt\n"
     ]
    }
   ],
   "source": [
    "!cd /home/ec2-user/SageMaker/semantic-search-with-amazon-opensearch/model/all-mpnet-base-v2-mpf-huggingface-reupload && tar czvf ../all-mpnet-base-v2-mpf-huggingface.tar.gz *"
   ]
  },
  {
   "cell_type": "code",
   "execution_count": 59,
   "id": "8a378803-1774-487b-9c98-4534e69ddc83",
   "metadata": {
    "tags": []
   },
   "outputs": [
    {
     "name": "stdout",
     "output_type": "stream",
     "text": [
      "Response from model upload: s3://sagemaker-ca-central-1-759472643633/sentence-transformers-model/all-mpnet-base-v2-mpf-huggingface.tar.gz\n",
      "---------!"
     ]
    },
    {
     "ename": "ModelError",
     "evalue": "An error occurred (ModelError) when calling the InvokeEndpoint operation: Received server error (0) from primary with message \"Your invocation timed out while waiting for a response from container primary. Review the latency metrics for each container in Amazon CloudWatch, resolve the issue, and try again.\". See https://ca-central-1.console.aws.amazon.com/cloudwatch/home?region=ca-central-1#logEventViewer:group=/aws/sagemaker/Endpoints/all-mpnet-base-v2-mpf-huggingface-test in account 759472643633 for more information.",
     "output_type": "error",
     "traceback": [
      "\u001b[0;31m---------------------------------------------------------------------------\u001b[0m",
      "\u001b[0;31mModelError\u001b[0m                                Traceback (most recent call last)",
      "Cell \u001b[0;32mIn[59], line 33\u001b[0m\n\u001b[1;32m     31\u001b[0m data \u001b[38;5;241m=\u001b[39m {\u001b[38;5;124m\"\u001b[39m\u001b[38;5;124minputs\u001b[39m\u001b[38;5;124m\"\u001b[39m:\u001b[38;5;124m\"\u001b[39m\u001b[38;5;124m Today is a sunny and nice day in Ottawa\u001b[39m\u001b[38;5;124m\"\u001b[39m} \n\u001b[1;32m     32\u001b[0m \u001b[38;5;66;03m# request\u001b[39;00m\n\u001b[0;32m---> 33\u001b[0m vector \u001b[38;5;241m=\u001b[39m \u001b[43mpredictor\u001b[49m\u001b[38;5;241;43m.\u001b[39;49m\u001b[43mpredict\u001b[49m\u001b[43m(\u001b[49m\u001b[43mdata\u001b[49m\u001b[43m)\u001b[49m\n\u001b[1;32m     34\u001b[0m \u001b[38;5;28mlen\u001b[39m(vector)\n",
      "File \u001b[0;32m~/anaconda3/envs/pytorch_p310/lib/python3.10/site-packages/sagemaker/base_predictor.py:212\u001b[0m, in \u001b[0;36mPredictor.predict\u001b[0;34m(self, data, initial_args, target_model, target_variant, inference_id, custom_attributes, component_name)\u001b[0m\n\u001b[1;32m    209\u001b[0m \u001b[38;5;28;01mif\u001b[39;00m inference_component_name:\n\u001b[1;32m    210\u001b[0m     request_args[\u001b[38;5;124m\"\u001b[39m\u001b[38;5;124mInferenceComponentName\u001b[39m\u001b[38;5;124m\"\u001b[39m] \u001b[38;5;241m=\u001b[39m inference_component_name\n\u001b[0;32m--> 212\u001b[0m response \u001b[38;5;241m=\u001b[39m \u001b[38;5;28;43mself\u001b[39;49m\u001b[38;5;241;43m.\u001b[39;49m\u001b[43msagemaker_session\u001b[49m\u001b[38;5;241;43m.\u001b[39;49m\u001b[43msagemaker_runtime_client\u001b[49m\u001b[38;5;241;43m.\u001b[39;49m\u001b[43minvoke_endpoint\u001b[49m\u001b[43m(\u001b[49m\u001b[38;5;241;43m*\u001b[39;49m\u001b[38;5;241;43m*\u001b[39;49m\u001b[43mrequest_args\u001b[49m\u001b[43m)\u001b[49m\n\u001b[1;32m    213\u001b[0m \u001b[38;5;28;01mreturn\u001b[39;00m \u001b[38;5;28mself\u001b[39m\u001b[38;5;241m.\u001b[39m_handle_response(response)\n",
      "File \u001b[0;32m~/anaconda3/envs/pytorch_p310/lib/python3.10/site-packages/botocore/client.py:565\u001b[0m, in \u001b[0;36mClientCreator._create_api_method.<locals>._api_call\u001b[0;34m(self, *args, **kwargs)\u001b[0m\n\u001b[1;32m    561\u001b[0m     \u001b[38;5;28;01mraise\u001b[39;00m \u001b[38;5;167;01mTypeError\u001b[39;00m(\n\u001b[1;32m    562\u001b[0m         \u001b[38;5;124mf\u001b[39m\u001b[38;5;124m\"\u001b[39m\u001b[38;5;132;01m{\u001b[39;00mpy_operation_name\u001b[38;5;132;01m}\u001b[39;00m\u001b[38;5;124m() only accepts keyword arguments.\u001b[39m\u001b[38;5;124m\"\u001b[39m\n\u001b[1;32m    563\u001b[0m     )\n\u001b[1;32m    564\u001b[0m \u001b[38;5;66;03m# The \"self\" in this scope is referring to the BaseClient.\u001b[39;00m\n\u001b[0;32m--> 565\u001b[0m \u001b[38;5;28;01mreturn\u001b[39;00m \u001b[38;5;28;43mself\u001b[39;49m\u001b[38;5;241;43m.\u001b[39;49m\u001b[43m_make_api_call\u001b[49m\u001b[43m(\u001b[49m\u001b[43moperation_name\u001b[49m\u001b[43m,\u001b[49m\u001b[43m \u001b[49m\u001b[43mkwargs\u001b[49m\u001b[43m)\u001b[49m\n",
      "File \u001b[0;32m~/anaconda3/envs/pytorch_p310/lib/python3.10/site-packages/botocore/client.py:1021\u001b[0m, in \u001b[0;36mBaseClient._make_api_call\u001b[0;34m(self, operation_name, api_params)\u001b[0m\n\u001b[1;32m   1017\u001b[0m     error_code \u001b[38;5;241m=\u001b[39m error_info\u001b[38;5;241m.\u001b[39mget(\u001b[38;5;124m\"\u001b[39m\u001b[38;5;124mQueryErrorCode\u001b[39m\u001b[38;5;124m\"\u001b[39m) \u001b[38;5;129;01mor\u001b[39;00m error_info\u001b[38;5;241m.\u001b[39mget(\n\u001b[1;32m   1018\u001b[0m         \u001b[38;5;124m\"\u001b[39m\u001b[38;5;124mCode\u001b[39m\u001b[38;5;124m\"\u001b[39m\n\u001b[1;32m   1019\u001b[0m     )\n\u001b[1;32m   1020\u001b[0m     error_class \u001b[38;5;241m=\u001b[39m \u001b[38;5;28mself\u001b[39m\u001b[38;5;241m.\u001b[39mexceptions\u001b[38;5;241m.\u001b[39mfrom_code(error_code)\n\u001b[0;32m-> 1021\u001b[0m     \u001b[38;5;28;01mraise\u001b[39;00m error_class(parsed_response, operation_name)\n\u001b[1;32m   1022\u001b[0m \u001b[38;5;28;01melse\u001b[39;00m:\n\u001b[1;32m   1023\u001b[0m     \u001b[38;5;28;01mreturn\u001b[39;00m parsed_response\n",
      "\u001b[0;31mModelError\u001b[0m: An error occurred (ModelError) when calling the InvokeEndpoint operation: Received server error (0) from primary with message \"Your invocation timed out while waiting for a response from container primary. Review the latency metrics for each container in Amazon CloudWatch, resolve the issue, and try again.\". See https://ca-central-1.console.aws.amazon.com/cloudwatch/home?region=ca-central-1#logEventViewer:group=/aws/sagemaker/Endpoints/all-mpnet-base-v2-mpf-huggingface-test in account 759472643633 for more information."
     ]
    }
   ],
   "source": [
    "sagemaker_session = sagemaker.Session()\n",
    "inputs = sagemaker_session.upload_data(path='/home/ec2-user/SageMaker/semantic-search-with-amazon-opensearch/model/all-mpnet-base-v2-mpf-huggingface.tar.gz', key_prefix='sentence-transformers-model')\n",
    "print(f\"Response from model upload: {inputs}\") \n",
    "\n",
    "# Create a SageMaker session and get the execution role to be used later \n",
    "role = sagemaker.get_execution_role()\n",
    "\n",
    "# Deploy with model data \n",
    "hub = {\n",
    "    'HF_TASK':'feature-extraction'\n",
    "}\n",
    "\n",
    "# create Hugging Face Model Class\n",
    "huggingface_model = HuggingFaceModel(\n",
    "   model_data=inputs,  # path to your trained SageMaker model\n",
    "   role=role,                                            # IAM role with permissions to create an endpoint\n",
    "   transformers_version=\"4.26\",                           # Transformers version used\n",
    "   pytorch_version=\"1.13\",                                # PyTorch version used\n",
    "   py_version='py39',                                    # Python version used\n",
    "   env=hub\n",
    ")\n",
    "\n",
    "# deploy model to SageMaker Inference\n",
    "predictor = huggingface_model.deploy(\n",
    "   initial_instance_count=1,\n",
    "   instance_type=\"ml.t2.medium\",\n",
    "   endpoint_name = f'all-mpnet-base-v2-mpf-huggingface-test'\n",
    ")\n"
   ]
  },
  {
   "cell_type": "code",
   "execution_count": null,
   "id": "f78675f2-fd15-4449-8188-2652b08d8015",
   "metadata": {},
   "outputs": [],
   "source": [
    "# example request: you always need to define \"inputs\"\n",
    "data = {\"inputs\":\" Today is a sunny and nice day in Ottawa\"} \n",
    "# request\n",
    "vector = predictor.predict(data)\n",
    "len(vector)"
   ]
  },
  {
   "cell_type": "markdown",
   "id": "551515bb-f6cb-4b24-8616-82e89a44779e",
   "metadata": {
    "tags": []
   },
   "source": [
    "### 4. Test the model endpoints and perform search in OpenSearch index "
   ]
  },
  {
   "cell_type": "code",
   "execution_count": 61,
   "id": "7953749c-5d48-4ec8-91ee-c8c7fb98dd27",
   "metadata": {
    "tags": []
   },
   "outputs": [],
   "source": [
    "from sagemaker_fn import invoke_sagemaker_endpoint_ft"
   ]
  },
  {
   "cell_type": "code",
   "execution_count": null,
   "id": "39502b6e-f5b3-4903-9a41-c7d038057294",
   "metadata": {},
   "outputs": [],
   "source": [
    "endpoint_name ='all-mpnet-base-v2-mpf-huggingface-test'\n",
    "payload = {\"inputs\": \"floods event in Canada\"}\n",
    "vector = invoke_sagemaker_endpoint_ft(endpoint_name, payload)\n",
    "print(len(vector))"
   ]
  },
  {
   "cell_type": "code",
   "execution_count": 42,
   "id": "144f2de9-7e98-423d-8417-1859b1339224",
   "metadata": {
    "tags": []
   },
   "outputs": [
    {
     "name": "stdout",
     "output_type": "stream",
     "text": [
      "Connection to OpenSearch established: <OpenSearch([{'host': 'search-semantic-search-dfcizxxxuj62dusl5skmeu3czu.ca-central-1.es.amazonaws.com', 'port': 443}])>\n"
     ]
    },
    {
     "data": {
      "text/html": [
       "<div>\n",
       "<style scoped>\n",
       "    .dataframe tbody tr th:only-of-type {\n",
       "        vertical-align: middle;\n",
       "    }\n",
       "\n",
       "    .dataframe tbody tr th {\n",
       "        vertical-align: top;\n",
       "    }\n",
       "\n",
       "    .dataframe thead th {\n",
       "        text-align: right;\n",
       "    }\n",
       "</style>\n",
       "<table border=\"1\" class=\"dataframe\">\n",
       "  <thead>\n",
       "    <tr style=\"text-align: right;\">\n",
       "      <th></th>\n",
       "      <th>_id</th>\n",
       "      <th>relevancy_score</th>\n",
       "      <th>title</th>\n",
       "      <th>uuid</th>\n",
       "    </tr>\n",
       "  </thead>\n",
       "  <tbody>\n",
       "    <tr>\n",
       "      <th>0</th>\n",
       "      <td>15eQT5ABdooaaHUe8g0S</td>\n",
       "      <td>0.727605</td>\n",
       "      <td>Floods in Canada - Cartographic Product Collec...</td>\n",
       "      <td>08b810c2-7c81-40f1-adb1-c32c8a2c9f50</td>\n",
       "    </tr>\n",
       "    <tr>\n",
       "      <th>1</th>\n",
       "      <td>65eST5ABdooaaHUeTiL6</td>\n",
       "      <td>0.664807</td>\n",
       "      <td>High tides December 2010: breaking waves</td>\n",
       "      <td>39bdcc75-dbaf-424d-9dbd-265c282f14f5</td>\n",
       "    </tr>\n",
       "    <tr>\n",
       "      <th>2</th>\n",
       "      <td>GZeST5ABdooaaHUeZCRK</td>\n",
       "      <td>0.653705</td>\n",
       "      <td>CGDIWH-142543</td>\n",
       "      <td>CGDIWH-142543</td>\n",
       "    </tr>\n",
       "    <tr>\n",
       "      <th>3</th>\n",
       "      <td>_ZeRT5ABdooaaHUeixbR</td>\n",
       "      <td>0.643081</td>\n",
       "      <td>Flood Risk Areas Database (BDZI)</td>\n",
       "      <td>3ac8ddff-fe0a-4a7a-8393-d5938e8f35e5</td>\n",
       "    </tr>\n",
       "    <tr>\n",
       "      <th>4</th>\n",
       "      <td>bJeRT5ABdooaaHUeghbl</td>\n",
       "      <td>0.637360</td>\n",
       "      <td>Flooding zones</td>\n",
       "      <td>12c51ab4-e22a-4abd-bf90-eaeb274a98c9</td>\n",
       "    </tr>\n",
       "    <tr>\n",
       "      <th>5</th>\n",
       "      <td>C5eRT5ABdooaaHUe-B5j</td>\n",
       "      <td>0.624253</td>\n",
       "      <td>Flood Risk Areas and Historical Floods</td>\n",
       "      <td>35782937-d7ac-b721-7fb3-bf51f18903ba</td>\n",
       "    </tr>\n",
       "    <tr>\n",
       "      <th>6</th>\n",
       "      <td>QJeRT5ABdooaaHUezBvt</td>\n",
       "      <td>0.623981</td>\n",
       "      <td>Forest Abiotic Damage Event</td>\n",
       "      <td>c32dfe71-bb89-4301-a8a3-4f97d1629c00</td>\n",
       "    </tr>\n",
       "    <tr>\n",
       "      <th>7</th>\n",
       "      <td>35eTT5ABdooaaHUeeTT-</td>\n",
       "      <td>0.621082</td>\n",
       "      <td>2023 - Dynamic Surface Water Maps of Canada fr...</td>\n",
       "      <td>ccmeo-dynamic-surface-water-compilation-dsw-19...</td>\n",
       "    </tr>\n",
       "    <tr>\n",
       "      <th>8</th>\n",
       "      <td>WpeST5ABdooaaHUe5ywG</td>\n",
       "      <td>0.620454</td>\n",
       "      <td>Government of Qc - 2019 Flood</td>\n",
       "      <td>CGDIWH-117987</td>\n",
       "    </tr>\n",
       "    <tr>\n",
       "      <th>9</th>\n",
       "      <td>gZeST5ABdooaaHUeaiRp</td>\n",
       "      <td>0.620081</td>\n",
       "      <td>Flood_Inondation_EGS_Flood_Product_Active_en</td>\n",
       "      <td>CGDIWH-150532</td>\n",
       "    </tr>\n",
       "    <tr>\n",
       "      <th>10</th>\n",
       "      <td>3peTT5ABdooaaHUeeTTt</td>\n",
       "      <td>0.620029</td>\n",
       "      <td>2021 - Dynamic Surface Water Maps of Canada fr...</td>\n",
       "      <td>ccmeo-dynamic-surface-water-compilation-dsw-19...</td>\n",
       "    </tr>\n",
       "    <tr>\n",
       "      <th>11</th>\n",
       "      <td>tZeST5ABdooaaHUeqyhn</td>\n",
       "      <td>0.619563</td>\n",
       "      <td>Flood zones</td>\n",
       "      <td>c4c9f1d0-85ce-479f-b18f-7fc5b84de024</td>\n",
       "    </tr>\n",
       "    <tr>\n",
       "      <th>12</th>\n",
       "      <td>LpeST5ABdooaaHUeoyhg</td>\n",
       "      <td>0.618755</td>\n",
       "      <td>Collection - Dynamic Surface Water Maps of Can...</td>\n",
       "      <td>ccmeo-dynamic-surface-water-compilation</td>\n",
       "    </tr>\n",
       "    <tr>\n",
       "      <th>13</th>\n",
       "      <td>L5eST5ABdooaaHUeoyht</td>\n",
       "      <td>0.618482</td>\n",
       "      <td>2019 - Dynamic Surface Water Maps of Canada fr...</td>\n",
       "      <td>ccmeo-dynamic-surface-water-compilation-dsw-19...</td>\n",
       "    </tr>\n",
       "    <tr>\n",
       "      <th>14</th>\n",
       "      <td>9peST5ABdooaaHUeoCcn</td>\n",
       "      <td>0.618184</td>\n",
       "      <td>2011 - Dynamic Surface Water Maps of Canada fr...</td>\n",
       "      <td>ccmeo-dynamic-surface-water-annual-dsw-2011</td>\n",
       "    </tr>\n",
       "    <tr>\n",
       "      <th>15</th>\n",
       "      <td>CJeST5ABdooaaHUeoSgK</td>\n",
       "      <td>0.618074</td>\n",
       "      <td>1992 - Dynamic Surface Water Maps of Canada fr...</td>\n",
       "      <td>ccmeo-dynamic-surface-water-annual-dsw-1992</td>\n",
       "    </tr>\n",
       "    <tr>\n",
       "      <th>16</th>\n",
       "      <td>-5eST5ABdooaaHUeoCdn</td>\n",
       "      <td>0.617953</td>\n",
       "      <td>2005 - Dynamic Surface Water Maps of Canada fr...</td>\n",
       "      <td>ccmeo-dynamic-surface-water-annual-dsw-2005</td>\n",
       "    </tr>\n",
       "    <tr>\n",
       "      <th>17</th>\n",
       "      <td>DJeTT5ABdooaaHUeSTII</td>\n",
       "      <td>0.617791</td>\n",
       "      <td>CGDIWH-44523</td>\n",
       "      <td>CGDIWH-44523</td>\n",
       "    </tr>\n",
       "    <tr>\n",
       "      <th>18</th>\n",
       "      <td>mZeST5ABdooaaHUe-S0q</td>\n",
       "      <td>0.617778</td>\n",
       "      <td>Floods in Canada - Archive</td>\n",
       "      <td>CGDIWH-150530</td>\n",
       "    </tr>\n",
       "    <tr>\n",
       "      <th>19</th>\n",
       "      <td>-peST5ABdooaaHUeoCdZ</td>\n",
       "      <td>0.617715</td>\n",
       "      <td>2006 - Dynamic Surface Water Maps of Canada fr...</td>\n",
       "      <td>ccmeo-dynamic-surface-water-annual-dsw-2006</td>\n",
       "    </tr>\n",
       "  </tbody>\n",
       "</table>\n",
       "</div>"
      ],
      "text/plain": [
       "                     _id  relevancy_score  \\\n",
       "0   15eQT5ABdooaaHUe8g0S         0.727605   \n",
       "1   65eST5ABdooaaHUeTiL6         0.664807   \n",
       "2   GZeST5ABdooaaHUeZCRK         0.653705   \n",
       "3   _ZeRT5ABdooaaHUeixbR         0.643081   \n",
       "4   bJeRT5ABdooaaHUeghbl         0.637360   \n",
       "5   C5eRT5ABdooaaHUe-B5j         0.624253   \n",
       "6   QJeRT5ABdooaaHUezBvt         0.623981   \n",
       "7   35eTT5ABdooaaHUeeTT-         0.621082   \n",
       "8   WpeST5ABdooaaHUe5ywG         0.620454   \n",
       "9   gZeST5ABdooaaHUeaiRp         0.620081   \n",
       "10  3peTT5ABdooaaHUeeTTt         0.620029   \n",
       "11  tZeST5ABdooaaHUeqyhn         0.619563   \n",
       "12  LpeST5ABdooaaHUeoyhg         0.618755   \n",
       "13  L5eST5ABdooaaHUeoyht         0.618482   \n",
       "14  9peST5ABdooaaHUeoCcn         0.618184   \n",
       "15  CJeST5ABdooaaHUeoSgK         0.618074   \n",
       "16  -5eST5ABdooaaHUeoCdn         0.617953   \n",
       "17  DJeTT5ABdooaaHUeSTII         0.617791   \n",
       "18  mZeST5ABdooaaHUe-S0q         0.617778   \n",
       "19  -peST5ABdooaaHUeoCdZ         0.617715   \n",
       "\n",
       "                                                title  \\\n",
       "0   Floods in Canada - Cartographic Product Collec...   \n",
       "1            High tides December 2010: breaking waves   \n",
       "2                                       CGDIWH-142543   \n",
       "3                    Flood Risk Areas Database (BDZI)   \n",
       "4                                      Flooding zones   \n",
       "5              Flood Risk Areas and Historical Floods   \n",
       "6                         Forest Abiotic Damage Event   \n",
       "7   2023 - Dynamic Surface Water Maps of Canada fr...   \n",
       "8                       Government of Qc - 2019 Flood   \n",
       "9        Flood_Inondation_EGS_Flood_Product_Active_en   \n",
       "10  2021 - Dynamic Surface Water Maps of Canada fr...   \n",
       "11                                        Flood zones   \n",
       "12  Collection - Dynamic Surface Water Maps of Can...   \n",
       "13  2019 - Dynamic Surface Water Maps of Canada fr...   \n",
       "14  2011 - Dynamic Surface Water Maps of Canada fr...   \n",
       "15  1992 - Dynamic Surface Water Maps of Canada fr...   \n",
       "16  2005 - Dynamic Surface Water Maps of Canada fr...   \n",
       "17                                       CGDIWH-44523   \n",
       "18                         Floods in Canada - Archive   \n",
       "19  2006 - Dynamic Surface Water Maps of Canada fr...   \n",
       "\n",
       "                                                 uuid  \n",
       "0                08b810c2-7c81-40f1-adb1-c32c8a2c9f50  \n",
       "1                39bdcc75-dbaf-424d-9dbd-265c282f14f5  \n",
       "2                                       CGDIWH-142543  \n",
       "3                3ac8ddff-fe0a-4a7a-8393-d5938e8f35e5  \n",
       "4                12c51ab4-e22a-4abd-bf90-eaeb274a98c9  \n",
       "5                35782937-d7ac-b721-7fb3-bf51f18903ba  \n",
       "6                c32dfe71-bb89-4301-a8a3-4f97d1629c00  \n",
       "7   ccmeo-dynamic-surface-water-compilation-dsw-19...  \n",
       "8                                       CGDIWH-117987  \n",
       "9                                       CGDIWH-150532  \n",
       "10  ccmeo-dynamic-surface-water-compilation-dsw-19...  \n",
       "11               c4c9f1d0-85ce-479f-b18f-7fc5b84de024  \n",
       "12            ccmeo-dynamic-surface-water-compilation  \n",
       "13  ccmeo-dynamic-surface-water-compilation-dsw-19...  \n",
       "14        ccmeo-dynamic-surface-water-annual-dsw-2011  \n",
       "15        ccmeo-dynamic-surface-water-annual-dsw-1992  \n",
       "16        ccmeo-dynamic-surface-water-annual-dsw-2005  \n",
       "17                                       CGDIWH-44523  \n",
       "18                                      CGDIWH-150530  \n",
       "19        ccmeo-dynamic-surface-water-annual-dsw-2006  "
      ]
     },
     "metadata": {},
     "output_type": "display_data"
    }
   ],
   "source": [
    "region = \"ca-central-1\"\n",
    "aos_host = \"search-semantic-search-dfcizxxxuj62dusl5skmeu3czu.ca-central-1.es.amazonaws.com\"\n",
    "os_secret_id = \"dev/OpenSearch/SemanticSearch\"\n",
    "\n",
    "awsauth = get_awsauth_from_secret(region, secret_id=os_secret_id)\n",
    "aos_client =create_opensearch_connection(aos_host, awsauth)\n",
    "\n",
    "query={\n",
    "    \"size\": 20,\n",
    "    \"query\": {\n",
    "        \"knn\": {\n",
    "            \"vector\":{\n",
    "                \"vector\":vector,\n",
    "                \"k\":20\n",
    "            }\n",
    "        }\n",
    "    }\n",
    "}\n",
    "\n",
    "res = aos_client.search(index='mpnet-mpf-knn', size=20, body=query, request_timeout=55)\n",
    "query_result=[]\n",
    "for hit in res['hits']['hits']:\n",
    "    row=[hit['_id'],hit['_score'],hit['_source']['title'],hit['_source']['id']]\n",
    "    query_result.append(row)\n",
    "query_result_df = pd.DataFrame(data=query_result,columns=[\"_id\",\"relevancy_score\",\"title\",'uuid'])\n",
    "display(query_result_df)"
   ]
  },
  {
   "cell_type": "code",
   "execution_count": null,
   "id": "1d51722f-3991-41e3-aae5-3cbdfbec49cf",
   "metadata": {},
   "outputs": [],
   "source": []
  }
 ],
 "metadata": {
  "kernelspec": {
   "display_name": "conda_pytorch_p310",
   "language": "python",
   "name": "conda_pytorch_p310"
  },
  "language_info": {
   "codemirror_mode": {
    "name": "ipython",
    "version": 3
   },
   "file_extension": ".py",
   "mimetype": "text/x-python",
   "name": "python",
   "nbconvert_exporter": "python",
   "pygments_lexer": "ipython3",
   "version": "3.10.14"
  }
 },
 "nbformat": 4,
 "nbformat_minor": 5
}
